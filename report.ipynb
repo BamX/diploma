{
 "cells": [
  {
   "cell_type": "code",
   "execution_count": 1,
   "metadata": {
    "collapsed": false
   },
   "outputs": [
    {
     "name": "stdout",
     "output_type": "stream",
     "text": [
      "Populating the interactive namespace from numpy and matplotlib\n"
     ]
    }
   ],
   "source": [
    "import numpy as np\n",
    "import matplotlib.pyplot as plt\n",
    "import pandas as pd\n",
    "%pylab inline"
   ]
  },
  {
   "cell_type": "code",
   "execution_count": 2,
   "metadata": {
    "collapsed": false
   },
   "outputs": [],
   "source": [
    "def formatSums(weights):\n",
    "    sums = [ weights[0] ]\n",
    "    for i in xrange(1, len(weights)):\n",
    "        sums.append(sums[-1] + weights[i])\n",
    "    return sums\n",
    "\n",
    "def binSearch(sums, l, r, S):\n",
    "    start = l;\n",
    "    if start > 0:\n",
    "        S += sums[start - 1]\n",
    "    while True:\n",
    "        mid = l + (r - l) / 2\n",
    "        if sums[mid] > S:\n",
    "            if l >= mid:\n",
    "                return start\n",
    "            r = mid\n",
    "        else:\n",
    "            if mid == r - 1 or sums[mid + 1] > S:\n",
    "                return mid + 1\n",
    "            l = mid\n",
    "            \n",
    "def bucketsCount(sums, start, end, S):\n",
    "    partsCount = 0\n",
    "    while start < end:\n",
    "        pos = binSearch(sums, start, end, S)\n",
    "        if pos == start:\n",
    "            return -1\n",
    "        start = pos\n",
    "        partsCount += 1\n",
    "    return partsCount\n",
    "\n",
    "def buckets(sums, start, end, S, parts):\n",
    "    while start < end:\n",
    "        pos = binSearch(sums, start, end, S)\n",
    "        parts.append(pos - start)\n",
    "        start = pos\n",
    "\n",
    "def partition(weights, count):\n",
    "    size = len(weights)\n",
    "    \n",
    "    i = 0\n",
    "    j = 0\n",
    "    iB = 0\n",
    "    jB = 0\n",
    "    SB = 2 * sum(weights)\n",
    "\n",
    "    sums = formatSums(weights)\n",
    "\n",
    "    while i < size and j < size:\n",
    "        S = sums[j]\n",
    "        if i > 0:\n",
    "            S -= sums[i - 1]\n",
    "        leftParts = bucketsCount(sums, 0, i, S)\n",
    "        rigthParts = bucketsCount(sums, j + 1, size, S)\n",
    "        if leftParts < 0 or rigthParts < 0 or leftParts + rigthParts > count - 1:\n",
    "            j += 1\n",
    "        else:\n",
    "            if S < SB:\n",
    "                iB = i\n",
    "                jB = j\n",
    "                SB = S\n",
    "            i += 1\n",
    "            if i == j:\n",
    "                j += 1\n",
    "            \n",
    "    parts = []\n",
    "    buckets(sums, 0, iB, SB, parts);\n",
    "    parts.append(jB - iB + 1)\n",
    "    buckets(sums, jB + 1, size, SB, parts)\n",
    "\n",
    "    return parts"
   ]
  },
  {
   "cell_type": "code",
   "execution_count": 3,
   "metadata": {
    "collapsed": false
   },
   "outputs": [],
   "source": [
    "def printParts(weights, parts):\n",
    "    begin = 0\n",
    "    for part in parts:\n",
    "        weightsPart = weights[begin:begin+part]\n",
    "        begin += part\n",
    "        print weightsPart, '=', sum(weightsPart)\n",
    "\n",
    "def costParts(weights, parts):\n",
    "    SB = 0\n",
    "    begin = 0\n",
    "    for part in parts:\n",
    "        weightsPart = weights[begin:begin+part]\n",
    "        begin += part\n",
    "        S = sum(weightsPart)\n",
    "        if S > SB:\n",
    "            SB = S\n",
    "    return SB\n",
    "\n",
    "def predefinedSample(foo):\n",
    "    ww = [\n",
    "        3.0, 40.0, 17.0,\n",
    "        10.0, 5.0, 17.0, 11.0, 11.0, 3.0, 1.0, \n",
    "        15.0, 17.0, 23.0, 6.0, 5.0, \n",
    "        66, \n",
    "        1.0, 1.0, 1.0, 1.0, 1.0, 62 \n",
    "    ]\n",
    "    parts = foo(ww, 5)\n",
    "    printParts(ww, parts)\n",
    "    \n",
    "def randomSample(foo):\n",
    "    ww = np.random.rand(20)\n",
    "    parts = foo(ww, 5)\n",
    "    printParts(ww, parts)\n",
    "    \n",
    "def scoreAlg(alg, baseline = partition, repeats = 10000, size = 100, count = 5):\n",
    "    scores = []\n",
    "    for i in xrange(repeats):\n",
    "        weights = np.random.rand(size)\n",
    "        baseParts = baseline(weights, count)\n",
    "        parts = alg(weights, count)\n",
    "        score = (costParts(weights, parts) - costParts(weights, baseParts)) / costParts(weights, baseParts)\n",
    "        scores.append(score)\n",
    "    return sum(scores) / count                                                 "
   ]
  },
  {
   "cell_type": "code",
   "execution_count": 4,
   "metadata": {
    "collapsed": false
   },
   "outputs": [
    {
     "name": "stdout",
     "output_type": "stream",
     "text": [
      "[3.0, 40.0, 17.0] = 60.0\n",
      "[10.0, 5.0, 17.0, 11.0, 11.0, 3.0] = 57.0\n",
      "[1.0, 15.0, 17.0, 23.0, 6.0, 5.0] = 67.0\n",
      "[66, 1.0] = 67.0\n",
      "[1.0, 1.0, 1.0, 1.0, 62] = 66.0\n"
     ]
    }
   ],
   "source": [
    "predefinedSample(partition)"
   ]
  },
  {
   "cell_type": "code",
   "execution_count": 5,
   "metadata": {
    "collapsed": false
   },
   "outputs": [],
   "source": [
    "def allParts(size, count):\n",
    "    if count == 1:\n",
    "        return [[size]]\n",
    "    parts = []\n",
    "    for i in xrange(size + 1):\n",
    "        for nextParts in allParts(size - i, count - 1):\n",
    "            parts.append([i] + nextParts)\n",
    "    return parts\n",
    "\n",
    "def minimax(weights, count):\n",
    "    SB = sum(weights)\n",
    "    partsB = []\n",
    "    for parts in allParts(len(weights), count):\n",
    "        SSB = costParts(weights, parts)\n",
    "        if SSB < SB:\n",
    "            SB = SSB\n",
    "            partsB = parts\n",
    "    return partsB"
   ]
  },
  {
   "cell_type": "code",
   "execution_count": 6,
   "metadata": {
    "collapsed": false
   },
   "outputs": [
    {
     "name": "stdout",
     "output_type": "stream",
     "text": [
      "[3.0, 40.0, 17.0] = 60.0\n",
      "[10.0, 5.0, 17.0, 11.0, 11.0, 3.0] = 57.0\n",
      "[1.0, 15.0, 17.0, 23.0, 6.0, 5.0] = 67.0\n",
      "[66] = 66\n",
      "[1.0, 1.0, 1.0, 1.0, 1.0, 62] = 67.0\n"
     ]
    }
   ],
   "source": [
    "predefinedSample(minimax)"
   ]
  },
  {
   "cell_type": "code",
   "execution_count": 7,
   "metadata": {
    "collapsed": false
   },
   "outputs": [
    {
     "name": "stdout",
     "output_type": "stream",
     "text": [
      "[ 0.63077597  0.41953264  0.16958134  0.39744007  0.8537009 ] = 2.47103091977\n",
      "[ 0.8993891   0.10200362  0.55251368  0.06772391  0.59323951] = 2.21486982565\n",
      "[ 0.74550317  0.35104538  0.05680016  0.08895249  0.51637994  0.29083562\n",
      "  0.87398526] = 2.92350201522\n",
      "[ 0.29500139  0.20228135  0.63769679  0.07619964  0.17620645  0.04761826\n",
      "  0.68169842  0.6781675 ] = 2.79486979163\n",
      "[ 0.78497384  0.48993738  0.26107191  0.7220026   0.57841041] = 2.8363961451\n"
     ]
    }
   ],
   "source": [
    "ww = np.random.rand(30)\n",
    "parts = partition(ww, 5)\n",
    "printParts(ww, parts)"
   ]
  },
  {
   "cell_type": "code",
   "execution_count": 8,
   "metadata": {
    "collapsed": false
   },
   "outputs": [
    {
     "name": "stdout",
     "output_type": "stream",
     "text": [
      "0\n"
     ]
    }
   ],
   "source": [
    "count = 5\n",
    "size = 20\n",
    "repeats = 11\n",
    "\n",
    "fp = 0\n",
    "for i in xrange(repeats):\n",
    "    ww = np.random.rand(size)\n",
    "    partsP = partition(ww, count)\n",
    "    costP = costParts(ww, partsP)\n",
    "    partsB = minimax(ww, count)\n",
    "    costB = costParts(ww, partsB)\n",
    "    if costP != costB:\n",
    "        fp += 1\n",
    "        \n",
    "print fp"
   ]
  },
  {
   "cell_type": "code",
   "execution_count": 92,
   "metadata": {
    "collapsed": false
   },
   "outputs": [],
   "source": [
    "def fastPartition(weights, count):\n",
    "    sums = formatSums(weights)\n",
    "    SB = sums[-1] / count\n",
    "    parts = [0]\n",
    "    \n",
    "    lastDelta = SB\n",
    "    S = SB\n",
    "    for i in xrange(len(sums)):\n",
    "        delta = abs(S - sums[i])\n",
    "        if delta < lastDelta:\n",
    "            parts[-1] += 1\n",
    "            lastDelta = delta\n",
    "        if sums[i] > S:\n",
    "            parts += [0]\n",
    "            S += SB\n",
    "            lastDelta = SB\n",
    "        #print S, sums[i], delta, parts\\\n",
    "    \n",
    "    #for k in xrange(count):\n",
    "    its = 0\n",
    "    SB = 0\n",
    "    while True:\n",
    "        newSB = costParts(weights, parts)\n",
    "        if abs(newSB - SB) < 0.000001:\n",
    "            break\n",
    "        its += 1\n",
    "        SB = newSB\n",
    "        S = 0\n",
    "        idx = 0\n",
    "        #printParts(weights, parts)\n",
    "        for i in xrange(count - 1):\n",
    "            s1 = sums[idx + parts[i] - 1] - S\n",
    "            s2 = sums[idx + parts[i] + parts[i + 1] - 1] - sums[idx + parts[i] - 1]\n",
    "            z1 = weights[idx + parts[i] - 1]\n",
    "            z2 = weights[idx + parts[i]]\n",
    "            #print i,\n",
    "            if s1 + z2 < SB and s1 < s2:\n",
    "                parts[i] += 1\n",
    "                parts[i + 1] -= 1\n",
    "                #print '+',\n",
    "            elif s2 + z1 < SB and s2 > s1:\n",
    "                parts[i + 1] += 1\n",
    "                parts[i] -= 1\n",
    "                #print '-',\n",
    "            S = sums[idx + parts[i] - 1]\n",
    "            idx += parts[i]\n",
    "            #print SB, s1, s2, z1, z2\n",
    "        #print\n",
    "    #print its\n",
    "    return parts, its\n",
    "    \n",
    "#predefinedSample(fastPartition)"
   ]
  },
  {
   "cell_type": "code",
   "execution_count": 93,
   "metadata": {
    "collapsed": false
   },
   "outputs": [],
   "source": [
    "count = 30\n",
    "size = 5000"
   ]
  },
  {
   "cell_type": "code",
   "execution_count": 94,
   "metadata": {
    "collapsed": false
   },
   "outputs": [
    {
     "name": "stdout",
     "output_type": "stream",
     "text": [
      "CPU times: user 1.08 s, sys: 18 ms, total: 1.1 s\n",
      "Wall time: 1.15 s\n"
     ]
    },
    {
     "data": {
      "text/plain": [
       "84.008990703019151"
      ]
     },
     "execution_count": 94,
     "metadata": {},
     "output_type": "execute_result"
    }
   ],
   "source": [
    "ww = np.random.rand(size)\n",
    "parts = %time partition(ww, count)\n",
    "costParts(ww, parts)"
   ]
  },
  {
   "cell_type": "code",
   "execution_count": 12,
   "metadata": {
    "collapsed": false,
    "scrolled": true
   },
   "outputs": [
    {
     "name": "stdout",
     "output_type": "stream",
     "text": [
      "CPU times: user 1min 20s, sys: 1.47 s, total: 1min 21s\n",
      "Wall time: 1min 25s\n"
     ]
    },
    {
     "data": {
      "text/plain": [
       "[8, 8, 9, 7, 9, 9]"
      ]
     },
     "execution_count": 12,
     "metadata": {},
     "output_type": "execute_result"
    }
   ],
   "source": [
    "%time minimax(ww, count)"
   ]
  },
  {
   "cell_type": "code",
   "execution_count": 95,
   "metadata": {
    "collapsed": false
   },
   "outputs": [
    {
     "name": "stdout",
     "output_type": "stream",
     "text": [
      "CPU times: user 5.21 ms, sys: 2.33 ms, total: 7.54 ms\n",
      "Wall time: 5.84 ms\n"
     ]
    },
    {
     "data": {
      "text/plain": [
       "84.868263055803155"
      ]
     },
     "execution_count": 95,
     "metadata": {},
     "output_type": "execute_result"
    }
   ],
   "source": [
    "ww = np.random.rand(size)\n",
    "parts, its = %time fastPartition(ww, count)\n",
    "costParts(ww, parts)"
   ]
  },
  {
   "cell_type": "code",
   "execution_count": 100,
   "metadata": {
    "collapsed": false
   },
   "outputs": [
    {
     "name": "stdout",
     "output_type": "stream",
     "text": [
      "50000 15.6096404744\n"
     ]
    },
    {
     "data": {
      "text/plain": [
       "(array([   1.,   21.,    0.,   90.,    0.,  232.,    0.,  284.,    0.,\n",
       "         185.,  102.,    0.,   53.,    0.,   24.,    0.,    6.,    0.,\n",
       "           0.,    2.]),\n",
       " array([  1.  ,   1.55,   2.1 ,   2.65,   3.2 ,   3.75,   4.3 ,   4.85,\n",
       "          5.4 ,   5.95,   6.5 ,   7.05,   7.6 ,   8.15,   8.7 ,   9.25,\n",
       "          9.8 ,  10.35,  10.9 ,  11.45,  12.  ]),\n",
       " <a list of 20 Patch objects>)"
      ]
     },
     "execution_count": 100,
     "metadata": {},
     "output_type": "execute_result"
    },
    {
     "data": {
      "image/png": "[encoded data removed]",
      "text/plain": [
       "<matplotlib.figure.Figure at 0x11b29c290>"
      ]
     },
     "metadata": {},
     "output_type": "display_data"
    }
   ],
   "source": [
    "count = 30\n",
    "size = 50000\n",
    "itss = []\n",
    "for i in xrange(1000):\n",
    "    ww = np.random.rand(size)\n",
    "    parts, its = fastPartition(ww, count)\n",
    "    itss += [its]\n",
    "print size, log(size)/log(2)\n",
    "hist(itss, 20)"
   ]
  },
  {
   "cell_type": "code",
   "execution_count": 99,
   "metadata": {
    "collapsed": false
   },
   "outputs": [
    {
     "name": "stdout",
     "output_type": "stream",
     "text": [
      "500 8.96578428466\n"
     ]
    },
    {
     "data": {
      "text/plain": [
       "(array([   1.,    1.,   11.,   28.,   88.,  123.,  126.,  127.,  127.,\n",
       "          94.,   81.,   46.,   45.,   41.,   18.,   20.,    9.,    6.,\n",
       "           5.,    3.]),\n",
       " array([-0.03324634, -0.02547507, -0.01770381, -0.00993254, -0.00216127,\n",
       "         0.00560999,  0.01338126,  0.02115253,  0.0289238 ,  0.03669506,\n",
       "         0.04446633,  0.0522376 ,  0.06000886,  0.06778013,  0.0755514 ,\n",
       "         0.08332266,  0.09109393,  0.0988652 ,  0.10663647,  0.11440773,\n",
       "         0.122179  ]),\n",
       " <a list of 20 Patch objects>)"
      ]
     },
     "execution_count": 99,
     "metadata": {},
     "output_type": "execute_result"
    },
    {
     "data": {
      "image/png": "[encoded data removed]",
      "text/plain": [
       "<matplotlib.figure.Figure at 0x11b08f290>"
      ]
     },
     "metadata": {},
     "output_type": "display_data"
    }
   ],
   "source": [
    "count = 30\n",
    "size = 500\n",
    "costs = []\n",
    "for i in xrange(1000):\n",
    "    ww = np.random.rand(size)\n",
    "    parts, its = fastPartition(ww, count)\n",
    "    bestParts = partition(ww, count)\n",
    "    c = costParts(ww, parts)\n",
    "    bestC = costParts(ww, bestParts)\n",
    "    costs += [(c - bestC) / bestC]\n",
    "print size, log(size)/log(2)\n",
    "hist(costs, 20)"
   ]
  },
  {
   "cell_type": "code",
   "execution_count": 16,
   "metadata": {
    "collapsed": false
   },
   "outputs": [],
   "source": [
    "def histParts(weights, parts):\n",
    "    SB = 0\n",
    "    begin = 0\n",
    "    wParts = []\n",
    "    for part in parts:\n",
    "        weightsPart = weights[begin:begin+part]\n",
    "        begin += part\n",
    "        S = sum(weightsPart)\n",
    "        wParts += [weightsPart]\n",
    "    df = pd.DataFrame(wParts)\n",
    "    df.plot(kind='bar', stacked=True, legend=False)"
   ]
  },
  {
   "cell_type": "code",
   "execution_count": 27,
   "metadata": {
    "collapsed": false
   },
   "outputs": [
    {
     "name": "stdout",
     "output_type": "stream",
     "text": [
      "+ + + + + - - + + + - - + + + + + - - - + +\n"
     ]
    },
    {
     "data": {
      "image/png": "[encoded data removed]",
      "text/plain": [
       "<matplotlib.figure.Figure at 0x1157ede10>"
      ]
     },
     "metadata": {},
     "output_type": "display_data"
    }
   ],
   "source": [
    "histParts(ww, fastPartition(ww, count))"
   ]
  },
  {
   "cell_type": "code",
   "execution_count": 22,
   "metadata": {
    "collapsed": false
   },
   "outputs": [
    {
     "data": {
      "image/png": "[encoded data removed]",
      "text/plain": [
       "<matplotlib.figure.Figure at 0x115422190>"
      ]
     },
     "metadata": {},
     "output_type": "display_data"
    }
   ],
   "source": [
    "histParts(ww, partition(ww, count))"
   ]
  }
 ],
 "metadata": {
  "kernelspec": {
   "display_name": "Python 2",
   "language": "python",
   "name": "python2"
  },
  "language_info": {
   "codemirror_mode": {
    "name": "ipython",
    "version": 2
   },
   "file_extension": ".py",
   "mimetype": "text/x-python",
   "name": "python",
   "nbconvert_exporter": "python",
   "pygments_lexer": "ipython2",
   "version": "2.7.11"
  }
 },
 "nbformat": 4,
 "nbformat_minor": 0
}
