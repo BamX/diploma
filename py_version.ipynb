{
 "cells": [
  {
   "cell_type": "code",
   "execution_count": 1,
   "metadata": {
    "collapsed": false
   },
   "outputs": [
    {
     "name": "stdout",
     "output_type": "stream",
     "text": [
      "Populating the interactive namespace from numpy and matplotlib\n"
     ]
    }
   ],
   "source": [
    "import numpy as np\n",
    "%pylab inline"
   ]
  },
  {
   "cell_type": "code",
   "execution_count": 17,
   "metadata": {
    "collapsed": true
   },
   "outputs": [],
   "source": [
    "moveVelocity = 0.75 / 60\n",
    "TLik = 1738.0\n",
    "TSol = 1679.0\n",
    "TEnv = 303\n",
    "TEnv4 = TEnv ** 4\n",
    "\n",
    "L = 272000.0\n",
    "cLik = 710.0\n",
    "X = 0.7\n",
    "\n",
    "totalLength = (0.4 + 0.4 + 0.47 + 0.95 + 1.51 + 18.97)\n",
    "\n",
    "Temps = [\n",
    "    273.0, 373.0, 473.0, 573.0, 673.0, 773.0, 873.0, 973.0, 1073.0, 1173.0, \n",
    "    1273.0, 1373.0, 1473.0, 1679.0, 1682.0, 1800.0\n",
    "]\n",
    "Lambds = [\n",
    "    52.56057, 51.35258, 49.16971, 46.22939, 42.74907, 38.94618, 35.03819,\n",
    "    31.24254, 24.06517, 25.37233, 26.95363, 28.32515, 29.40302, 31.62343,\n",
    "    28.0, 28.0\n",
    "]\n",
    "Ros = [\n",
    "    7885.884, 7845.138, 7804.392, 7763.646, 7722.9, 7682.901, 7647.512, 7621.141,\n",
    "    7631.934, 7572.359, 7512.151, 7453.459, 7398.322, 7190.562, 7000.0, 7000.0,\n",
    "]\n",
    "def Lambda(T):\n",
    "    return np.interp(T, Temps, Lambds)\n",
    "\n",
    "def Ro(T):\n",
    "    return np.interp(T, Temps, Ros)\n",
    "\n",
    "Ti = [ 1000.0, 1033.0, 923.0, 1033.0 ]\n",
    "dTi = [ 70.0, 350.0, 1100.0, 170.0 ]\n",
    "MLiT = np.array([\n",
    "    44076.0 - (85622.0 * X - 50357.0) * X,\n",
    "    5163.2 - (74009.0 * X - 70232.0) * X,\n",
    "    2622.3 - (92590.0 * X - 80523.0) * X,\n",
    "    14775 + (154544.0 * X - 142489.0) * X\n",
    "]) * 4.5141 / dTi\n",
    "\n",
    "def cSol(T):\n",
    "    return 469.0 + 0.16 * (T - 323.0) + sum(MLiT[i] * exp(-16.0 * ((Ti[i] - T) / dTi[i]) ** 2) for i in [0, 1, 2, 3])\n",
    "\n",
    "def ksiFunc(T):\n",
    "    return (1.3191416161402142e9 - 1.512210568295802e6 * T + 444.52 * T*T) / ((1.8691015431878914e6 - 2843.51 * T + T*T)**2)\n",
    "\n",
    "def CEf(T):\n",
    "    if T >= TLik:\n",
    "        return cLik\n",
    "    elif T > TSol:\n",
    "        return cSol(T) + L * ksiFunc(T)\n",
    "    else:\n",
    "        return cSol(T)\n",
    "\n",
    "def Alpha(t):\n",
    "    x = t * moveVelocity\n",
    "    if x <= 0.4:\n",
    "        return 2100.0\n",
    "    elif x <= 0.4 + 0.4:\n",
    "        return 60.0\n",
    "    elif x <= 0.4 + 0.4 + 0.47:\n",
    "        return 850.0\n",
    "    elif x <= 0.4 + 0.4 + 0.47 + 0.95:\n",
    "        return 120.0\n",
    "    elif x <= 0.4 + 0.4 + 0.47 + 0.95 + 1.51:\n",
    "        return 40.0\n",
    "    else:\n",
    "        return 25.0\n",
    "\n",
    "def Sigma(t):\n",
    "    x = t * moveVelocity\n",
    "    if x <= 0.4 + 0.4 + 0.47 + 0.95 + 1.51:\n",
    "        return 0.0\n",
    "    else:\n",
    "        return 3.2e-8"
   ]
  },
  {
   "cell_type": "code",
   "execution_count": 500,
   "metadata": {
    "collapsed": false
   },
   "outputs": [],
   "source": [
    "def fillFactors(rw, brw, aF, bF, cF, fF, t, dT, hX):\n",
    "    width = len(rw)\n",
    "    \n",
    "    lm0, lmh = Lambda(brw[0]), Lambda(brw[1])\n",
    "    aF[0] = 0\n",
    "    cF[0] = dT * (lm0 + lmh) + (hX ** 2) * Ro(brw[0]) * CEf(brw[0])\n",
    "    bF[0] = -dT * (lm0 + lmh)\n",
    "    fF[0] = (hX ** 2) * Ro(brw[0]) * CEf(brw[0]) * rw[0]\n",
    "    \n",
    "    TPrev = brw[-1]\n",
    "    TPrev4 = TPrev ** 4\n",
    "    lmXX, lmXXm1 = Lambda(brw[-1]), Lambda(brw[-2])\n",
    "    aF[-1] = -dT * (lmXXm1 + lmXX)\n",
    "    cF[-1] = dT * (lmXXm1 + lmXX) + (hX ** 2) * Ro(brw[-1]) * CEf(brw[-1]) + 2 * hX * dT * Alpha(t)\n",
    "    bF[-1] = 0\n",
    "    fF[-1] = (hX ** 2) * Ro(brw[-1]) * CEf(brw[-1]) * rw[-1] - 2 * hX * dT * Sigma(t) * (TPrev4 - TEnv4) + 2 * hX * dT * Alpha(t) * TEnv\n",
    "    \n",
    "    lmXm1, lmX, lmXp1 = lm0, lmh, 0\n",
    "    for index in xrange(1, width - 1):\n",
    "        lmXp1 = Lambda(brw[index + 1])\n",
    "        mhh2rocdT = - 2 * (hX ** 2) * Ro(brw[index]) * CEf(brw[index]) / dT\n",
    "        aF[index] = lmX + lmXm1\n",
    "        bF[index] = lmXp1 + lmX\n",
    "        cF[index] = -(lmXp1 + 2 * lmX + lmXm1) + mhh2rocdT\n",
    "        fF[index] = mhh2rocdT * rw[index]\n",
    "        lmXm1, lmX = lmX, lmXp1\n",
    "\n",
    "def firstPass(aF, bF, cF, fF):\n",
    "    for i in xrange(1, len(aF)):\n",
    "        m = aF[i] / cF[i - 1]\n",
    "        cF[i] -= m * bF[i - 1]\n",
    "        fF[i] -= m * fF[i - 1]\n",
    "    \n",
    "def secondPass(aF, bF, cF, fF, y):\n",
    "    newValue, maxDelta = 0, 0\n",
    "    newValue = fF[-1] / cF[-1]\n",
    "    maxDelta = abs(newValue - y[-1])\n",
    "    y[-1] = newValue\n",
    "    for i in xrange(len(aF) - 2, -1, -1):\n",
    "        newValue = (fF[i] - bF[i] * y[i + 1]) / cF[i]\n",
    "        newDelta = abs(newValue - y[i])\n",
    "        maxDelta = max(maxDelta, newDelta)\n",
    "        y[i] = newValue\n",
    "    return maxDelta\n",
    "\n",
    "def solveRow(row, t, dT = 0.09, dH = 0.000015, epsilon = 0.01):\n",
    "    curRow = row.copy()\n",
    "    its, delta = 0, 0.0\n",
    "    [a, b, c, f] = [np.zeros(len(row), dtype='float64') for ppp in xrange(4)]\n",
    "    for k in xrange(50):\n",
    "    #while True:\n",
    "        fillFactors(row, curRow, a, b, c, f, t, dT, dH)\n",
    "        firstPass(a, b, c, f)\n",
    "        delta = secondPass(a, b, c, f, curRow)\n",
    "        its += 1\n",
    "        if delta < epsilon:\n",
    "            break\n",
    "    #print delta, its\n",
    "    return curRow, its\n",
    "\n",
    "import multiprocessing\n",
    "pool = multiprocessing.Pool()\n",
    "\n",
    "def passMtr(mtr, t, dT = 0.09, dH = 0.00015, epsilon = 0.01):\n",
    "    nmtr = []\n",
    "    itss = []\n",
    "    ri = pool.map(lambda row: solveRow(row, t, dT, dH, epsilon), mtr)\n",
    "    for row in mtr:\n",
    "        rw, its = solveRow(row, t, dT, dH, epsilon)\n",
    "        nmtr += [rw]\n",
    "        itss += [its]\n",
    "    return np.array(nmtr), np.array(itss)\n",
    "\n",
    "\n",
    "\n",
    "def solveMtr(mtr, t, dT = 0.09, dH = 0.00015, epsilon = 0.01):\n",
    "    mtr, itss1 = passMtr(mtr, t, dT, dH, epsilon)\n",
    "    mtr, itss2 = passMtr(mtr.T, t, dT, dH, epsilon)\n",
    "    return mtr, np.array([itss1 for i in xrange(len(itss2))]).T + np.array([itss2 for i in xrange(len(itss1))])"
   ]
  },
  {
   "cell_type": "code",
   "execution_count": null,
   "metadata": {
    "collapsed": true
   },
   "outputs": [],
   "source": [
    "row = np.ones(10000, dtype='float64') * 1768.0\n",
    "dT = 0.09\n",
    "times = np.arange(1000) * dT\n",
    "temps = []\n",
    "itss = []\n",
    "for t in times:\n",
    "    row, its = solveRow(row, t, dT)\n",
    "    temps += [row[-1]]\n",
    "    itss += [its]\n",
    "    \n",
    "plot(times, temps)\n",
    "plt.show()\n",
    "plot(times, itss)\n",
    "plt.show()"
   ]
  },
  {
   "cell_type": "code",
   "execution_count": 298,
   "metadata": {
    "collapsed": true
   },
   "outputs": [],
   "source": [
    "def plot2d(H, limmin = 0, limmax = 1800):\n",
    "    fig = plt.figure(figsize=(6, 3.2))\n",
    "    \n",
    "    ax = fig.add_subplot(111)\n",
    "    ax.set_title('colorMap')\n",
    "    shp = H.shape\n",
    "    print shp\n",
    "    H.reshape(shp[0] * shp[1])\n",
    "    H = H.astype('int')\n",
    "    H.reshape(shp)\n",
    "    imshow(H)\n",
    "    plt.clim(limmin, limmax)\n",
    "    ax.set_aspect('equal')\n",
    "\n",
    "    cax = fig.add_axes([0.12, 0.1, 0.78, 0.8])\n",
    "    cax.get_xaxis().set_visible(False)\n",
    "    cax.get_yaxis().set_visible(False)\n",
    "    cax.patch.set_alpha(0)\n",
    "    cax.set_frame_on(False)\n",
    "    plt.colorbar(orientation='vertical')\n",
    "    plt.show()"
   ]
  },
  {
   "cell_type": "code",
   "execution_count": 499,
   "metadata": {
    "collapsed": false
   },
   "outputs": [],
   "source": [
    "N = 50\n",
    "mtr = (np.ones(N * N) * 1768.0).reshape([N, N])"
   ]
  },
  {
   "cell_type": "code",
   "execution_count": null,
   "metadata": {
    "collapsed": false
   },
   "outputs": [],
   "source": [
    "def foo(row):\n",
    "    return solveRow(row, 0)\n",
    "ri = pool.map(foo, list(mtr))"
   ]
  },
  {
   "cell_type": "code",
   "execution_count": 498,
   "metadata": {
    "collapsed": false
   },
   "outputs": [
    {
     "name": "stdout",
     "output_type": "stream",
     "text": [
      "(50, 50)\n"
     ]
    },
    {
     "data": {
      "image/png": "[encoded data removed]",
      "text/plain": [
       "<matplotlib.figure.Figure at 0x10cfa2250>"
      ]
     },
     "metadata": {},
     "output_type": "display_data"
    },
    {
     "name": "stdout",
     "output_type": "stream",
     "text": [
      "(50, 50)\n"
     ]
    },
    {
     "data": {
      "image/png": "[encoded data removed]",
      "text/plain": [
       "<matplotlib.figure.Figure at 0x10dd952d0>"
      ]
     },
     "metadata": {},
     "output_type": "display_data"
    }
   ],
   "source": [
    "mtr, itss = solveMtr(mtr, 0, 0.9, 0.0030, 1)\n",
    "plot2d(mtr)\n",
    "plot2d(itss, 0, 100)"
   ]
  },
  {
   "cell_type": "code",
   "execution_count": 293,
   "metadata": {
    "collapsed": false
   },
   "outputs": [
    {
     "data": {
      "text/plain": [
       "array([   9,    9,    9,    9,    9,    9,    9,    9,    9,    9,    9,\n",
       "          9,    9,    9,    9,    9,    9,    9,    9,    9,    9,    9,\n",
       "          9,    9,    9,    9, 2500,    9,    9,    9,    9,   12,   12,\n",
       "          9,    4,   12,    9,   12,    9,   12,    9,    6,    6,    6,\n",
       "          6,    6,    4,    4,    4,    4])"
      ]
     },
     "execution_count": 293,
     "metadata": {},
     "output_type": "execute_result"
    }
   ],
   "source": [
    "itss"
   ]
  },
  {
   "cell_type": "code",
   "execution_count": 56,
   "metadata": {
    "collapsed": false
   },
   "outputs": [
    {
     "data": {
      "text/plain": [
       "[<matplotlib.lines.Line2D at 0x111c66310>]"
      ]
     },
     "execution_count": 56,
     "metadata": {},
     "output_type": "execute_result"
    },
    {
     "data": {
      "image/png": "[encoded data removed]",
      "text/plain": [
       "<matplotlib.figure.Figure at 0x111f6e7d0>"
      ]
     },
     "metadata": {},
     "output_type": "display_data"
    }
   ],
   "source": [
    "plot(np.arange(len(row)) * 0.000015, row)"
   ]
  },
  {
   "cell_type": "code",
   "execution_count": null,
   "metadata": {
    "collapsed": true
   },
   "outputs": [],
   "source": [
    "%tim"
   ]
  },
  {
   "cell_type": "code",
   "execution_count": 21,
   "metadata": {
    "collapsed": false
   },
   "outputs": [
    {
     "data": {
      "image/png": "[encoded data removed]",
      "text/plain": [
       "<matplotlib.figure.Figure at 0x109d3e390>"
      ]
     },
     "metadata": {},
     "output_type": "display_data"
    },
    {
     "data": {
      "image/png": "[encoded data removed]",
      "text/plain": [
       "<matplotlib.figure.Figure at 0x10d9ba290>"
      ]
     },
     "metadata": {},
     "output_type": "display_data"
    },
    {
     "data": {
      "image/png": "[encoded data removed]",
      "text/plain": [
       "<matplotlib.figure.Figure at 0x10dbdf5d0>"
      ]
     },
     "metadata": {},
     "output_type": "display_data"
    }
   ],
   "source": [
    "x = np.arange(1800)\n",
    "yCEf = map(CEf, x)\n",
    "plot(x, yCEf)\n",
    "plt.show()\n",
    "\n",
    "yLambda = map(Lambda, x)\n",
    "plot(x, yLambda)\n",
    "plt.show()\n",
    "\n",
    "yRo = map(Ro, x)\n",
    "plot(x, yRo)\n",
    "plt.show()"
   ]
  }
 ],
 "metadata": {
  "kernelspec": {
   "display_name": "Python 2",
   "language": "python",
   "name": "python2"
  },
  "language_info": {
   "codemirror_mode": {
    "name": "ipython",
    "version": 2
   },
   "file_extension": ".py",
   "mimetype": "text/x-python",
   "name": "python",
   "nbconvert_exporter": "python",
   "pygments_lexer": "ipython2",
   "version": "2.7.11"
  }
 },
 "nbformat": 4,
 "nbformat_minor": 0
}
